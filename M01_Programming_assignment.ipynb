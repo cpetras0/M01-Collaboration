{
 "cells": [
  {
   "cell_type": "code",
   "execution_count": 1,
   "id": "0a2ff2ae-0f74-4eb7-9ec5-575725a4bcf9",
   "metadata": {},
   "outputs": [
    {
     "name": "stdout",
     "output_type": "stream",
     "text": [
      "3600\n"
     ]
    }
   ],
   "source": [
    "#How many Seconds are in an hour?\n",
    "seconds = 60\n",
    "minutes = 60 \n",
    "seconds_in_hour = seconds * minutes\n",
    "print(seconds_in_hour)"
   ]
  },
  {
   "cell_type": "code",
   "execution_count": 2,
   "id": "0ae93362-45c6-4c0b-a08e-1ab49d5851bd",
   "metadata": {},
   "outputs": [],
   "source": [
    "#Assign the result from the prevous task to a variable called seconds_per_hour\n",
    "seconds_per_hour = 3600"
   ]
  },
  {
   "cell_type": "code",
   "execution_count": 3,
   "id": "79a8f5c5-cd20-4c24-ac00-5c2491889821",
   "metadata": {},
   "outputs": [
    {
     "name": "stdout",
     "output_type": "stream",
     "text": [
      "86400\n"
     ]
    }
   ],
   "source": [
    "# How many seconds are in a day? Use the seconds per hour variable\n",
    "hours_per_day = 24\n",
    "seconds_per_day = seconds_per_hour * hours_per_day\n",
    "print(seconds_per_day)"
   ]
  },
  {
   "cell_type": "code",
   "execution_count": 4,
   "id": "9ea232c1-e62f-4b90-8208-933e553ac09f",
   "metadata": {},
   "outputs": [
    {
     "data": {
      "text/plain": [
       "24"
      ]
     },
     "execution_count": 4,
     "metadata": {},
     "output_type": "execute_result"
    }
   ],
   "source": [
    "# Divide seconds_per_day by seconds_per_hour using integer division\n",
    "seconds_per_day // seconds_per_hour"
   ]
  },
  {
   "cell_type": "code",
   "execution_count": 5,
   "id": "58be21bf-c155-4708-a1b2-ab195020e29b",
   "metadata": {},
   "outputs": [
    {
     "data": {
      "text/plain": [
       "24.0"
      ]
     },
     "execution_count": 5,
     "metadata": {},
     "output_type": "execute_result"
    }
   ],
   "source": [
    "#Divide seconds_per_day by seconds_per_hour using floating point division\n",
    "seconds_per_day / seconds_per_hour"
   ]
  },
  {
   "cell_type": "code",
   "execution_count": 6,
   "id": "8eecaf32-ab8e-45ec-97a1-930625d4ff0e",
   "metadata": {},
   "outputs": [],
   "source": [
    "#Do the previous answers match besides the zero?\n",
    "\n",
    "#The answers do match besides the zero decimal"
   ]
  },
  {
   "cell_type": "code",
   "execution_count": null,
   "id": "b9b405a5-83fe-41ae-b852-ac2fc7075ff5",
   "metadata": {},
   "outputs": [],
   "source": []
  }
 ],
 "metadata": {
  "kernelspec": {
   "display_name": "Python 3 (ipykernel)",
   "language": "python",
   "name": "python3"
  },
  "language_info": {
   "codemirror_mode": {
    "name": "ipython",
    "version": 3
   },
   "file_extension": ".py",
   "mimetype": "text/x-python",
   "name": "python",
   "nbconvert_exporter": "python",
   "pygments_lexer": "ipython3",
   "version": "3.11.7"
  }
 },
 "nbformat": 4,
 "nbformat_minor": 5
}
